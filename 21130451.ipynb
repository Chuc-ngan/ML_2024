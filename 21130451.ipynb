{
  "cells": [
    {
      "cell_type": "markdown",
      "metadata": {
        "id": "view-in-github",
        "colab_type": "text"
      },
      "source": [
        "<a href=\"https://colab.research.google.com/github/Chuc-ngan/ML_2024/blob/main/21130451.ipynb\" target=\"_parent\"><img src=\"https://colab.research.google.com/assets/colab-badge.svg\" alt=\"Open In Colab\"/></a>"
      ]
    },
    {
      "cell_type": "code",
      "execution_count": null,
      "metadata": {
        "id": "ryZSkR3HZ2wG"
      },
      "outputs": [],
      "source": [
        "class Post:\n",
        "  def __init__(self, content, subject, likes):\n",
        "    self.__content = content\n",
        "    self.__subject = subject\n",
        "    self.__likes = likes\n",
        "\n",
        "  def get_likes(self)\n",
        "    return self.__likes\n",
        "\n",
        "  def get_content(self)\n",
        "    return self.__content\n",
        "\n",
        "  def get_subject(self)\n",
        "    return self.__subject\n",
        "\n",
        "\n",
        "class Account:\n",
        "  def __init__(self, name, email, country, friends=[], posts=[]):\n",
        "    self._name = name\n",
        "    self._email = email\n",
        "    self._country = country\n",
        "    self._friends = list()\n",
        "    self._posts = posts\n",
        "\n",
        "  def getMaxLikePost(self):\n",
        "    max_like = 0\n",
        "    for p in self._posts:\n",
        "      max_like = max(max_like, p._likes)\n",
        "    return max_like\n",
        "\n",
        "  def getMaxLikePostByFriend(self):\n",
        "    max_like = 0\n",
        "    for f in self._friends:\n",
        "      max_like = max(max_like, f.getMaxLikePost(self))\n",
        "    return max_like\n",
        "\n",
        "\n",
        "\n",
        "class AccountManager:\n",
        "  def __init__(self, accounts=[]):\n",
        "    self._accounts = accounts\n",
        "\n",
        "# Tạo các đối tượng Post để kiểm tra\n",
        "post1 = Post(\"Nội dung bài viết 1\", \"Chủ đề 1\", 10)\n",
        "post2 = Post(\"Nội dung bài viết 2\", \"Chủ đề 2\", 20)\n",
        "post3 = Post(\"Nội dung bài viết 3\", \"Chủ đề 3\", 30)\n",
        "\n",
        "# Tạo một số tài khoản\n",
        "account1 = Account(\"John\", \"john@example.com\", \"USA\",  [\"Alice\", \"Bob\"], [post1, post2, post3])\n",
        "account2 = Account(\"Alice\", \"alice@example.com\", \"Canada\", [\"John\", \"Bob\"], [])\n",
        "\n",
        "# Tạo một instance của AccountManager và thêm các tài khoản vào\n",
        "manager = AccountManager([account1, account2])\n",
        "\n",
        "\n",
        "\n",
        "\n",
        "\n",
        "\n"
      ]
    },
    {
      "cell_type": "code",
      "source": [
        "print(account1.getMaxLikePostByFriend())"
      ],
      "metadata": {
        "colab": {
          "base_uri": "https://localhost:8080/",
          "height": 263
        },
        "id": "R_baG7nVW_v3",
        "outputId": "e8be8b00-18e5-4471-f56e-b57f2061fb3c"
      },
      "execution_count": null,
      "outputs": [
        {
          "output_type": "error",
          "ename": "AttributeError",
          "evalue": "'str' object has no attribute 'getMaxLikePost'",
          "traceback": [
            "\u001b[0;31m---------------------------------------------------------------------------\u001b[0m",
            "\u001b[0;31mAttributeError\u001b[0m                            Traceback (most recent call last)",
            "\u001b[0;32m<ipython-input-11-77260cbd2f3b>\u001b[0m in \u001b[0;36m<cell line: 1>\u001b[0;34m()\u001b[0m\n\u001b[0;32m----> 1\u001b[0;31m \u001b[0mprint\u001b[0m\u001b[0;34m(\u001b[0m\u001b[0maccount1\u001b[0m\u001b[0;34m.\u001b[0m\u001b[0mgetMaxLikePostByFriend\u001b[0m\u001b[0;34m(\u001b[0m\u001b[0;34m)\u001b[0m\u001b[0;34m)\u001b[0m\u001b[0;34m\u001b[0m\u001b[0;34m\u001b[0m\u001b[0m\n\u001b[0m",
            "\u001b[0;32m<ipython-input-10-b6d424a74bb9>\u001b[0m in \u001b[0;36mgetMaxLikePostByFriend\u001b[0;34m(self)\u001b[0m\n\u001b[1;32m     23\u001b[0m     \u001b[0mmax_like\u001b[0m \u001b[0;34m=\u001b[0m \u001b[0;36m0\u001b[0m\u001b[0;34m\u001b[0m\u001b[0;34m\u001b[0m\u001b[0m\n\u001b[1;32m     24\u001b[0m     \u001b[0;32mfor\u001b[0m \u001b[0mf\u001b[0m \u001b[0;32min\u001b[0m \u001b[0mself\u001b[0m\u001b[0;34m.\u001b[0m\u001b[0m_friends\u001b[0m\u001b[0;34m:\u001b[0m\u001b[0;34m\u001b[0m\u001b[0;34m\u001b[0m\u001b[0m\n\u001b[0;32m---> 25\u001b[0;31m       \u001b[0mmax_like\u001b[0m \u001b[0;34m=\u001b[0m \u001b[0mmax\u001b[0m\u001b[0;34m(\u001b[0m\u001b[0mmax_like\u001b[0m\u001b[0;34m,\u001b[0m \u001b[0mf\u001b[0m\u001b[0;34m.\u001b[0m\u001b[0mgetMaxLikePost\u001b[0m\u001b[0;34m(\u001b[0m\u001b[0mself\u001b[0m\u001b[0;34m)\u001b[0m\u001b[0;34m)\u001b[0m\u001b[0;34m\u001b[0m\u001b[0;34m\u001b[0m\u001b[0m\n\u001b[0m\u001b[1;32m     26\u001b[0m     \u001b[0;32mreturn\u001b[0m \u001b[0mmax_like\u001b[0m\u001b[0;34m\u001b[0m\u001b[0;34m\u001b[0m\u001b[0m\n\u001b[1;32m     27\u001b[0m \u001b[0;34m\u001b[0m\u001b[0m\n",
            "\u001b[0;31mAttributeError\u001b[0m: 'str' object has no attribute 'getMaxLikePost'"
          ]
        }
      ]
    }
  ],
  "metadata": {
    "colab": {
      "provenance": [],
      "authorship_tag": "ABX9TyM7jvioQALip/51S7kWo10T",
      "include_colab_link": true
    },
    "kernelspec": {
      "display_name": "Python 3",
      "name": "python3"
    },
    "language_info": {
      "name": "python"
    }
  },
  "nbformat": 4,
  "nbformat_minor": 0
}